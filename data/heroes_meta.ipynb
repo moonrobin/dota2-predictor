{
 "cells": [
  {
   "cell_type": "code",
   "execution_count": 70,
   "metadata": {},
   "outputs": [],
   "source": [
    "from bs4 import BeautifulSoup\n",
    "import requests\n",
    "import csv"
   ]
  },
  {
   "cell_type": "code",
   "execution_count": 71,
   "metadata": {},
   "outputs": [],
   "source": [
    "DOTABUFF_HEROES_META = \"https://www.dotabuff.com/heroes/meta\"\n",
    "header={ 'User-Agent' : 'test header' } # Dotabuff rejects all requests without a header\n",
    "response = requests.get(DOTABUFF_HEROES_META, headers={ 'User-Agent' : 'test header' })\n",
    "soup = BeautifulSoup(response.content, \"html.parser\")"
   ]
  },
  {
   "cell_type": "code",
   "execution_count": 72,
   "metadata": {},
   "outputs": [],
   "source": [
    "tbody = soup.find_all('tbody')\n",
    "trs = tbody[0].find_all('tr')\n",
    "with open('heroes_meta.csv', 'wt') as csvfile:\n",
    "    writer = csv.writer(csvfile)\n",
    "    for i, tr in enumerate(trs):\n",
    "        tds = tr.find_all('td')\n",
    "        hero_name = tds[0]['data-value']\n",
    "        crusader_pick = tds[2]['data-value']\n",
    "        crusader_win = tds[3]['data-value']\n",
    "        archon_pick = tds[4]['data-value']\n",
    "        archon_win = tds[5]['data-value']\n",
    "        legend_pick = tds[6]['data-value']\n",
    "        legend_win = tds[7]['data-value']\n",
    "        ancient_pick = tds[8]['data-value']\n",
    "        ancient_win = tds[9]['data-value']\n",
    "        divine_pick = tds[10]['data-value']\n",
    "        divine_win = tds[11]['data-value']\n",
    "        writer.writerow([hero_name,\n",
    "                         crusader_pick, crusader_win,\n",
    "                         archon_pick, archon_win,\n",
    "                         legend_pick, legend_win,\n",
    "                         ancient_pick, ancient_win,\n",
    "                         divine_pick, divine_win,\n",
    "                        ])"
   ]
  },
  {
   "cell_type": "code",
   "execution_count": null,
   "metadata": {},
   "outputs": [],
   "source": []
  }
 ],
 "metadata": {
  "kernelspec": {
   "display_name": "Python 3",
   "language": "python",
   "name": "python3"
  },
  "language_info": {
   "codemirror_mode": {
    "name": "ipython",
    "version": 3
   },
   "file_extension": ".py",
   "mimetype": "text/x-python",
   "name": "python",
   "nbconvert_exporter": "python",
   "pygments_lexer": "ipython3",
   "version": "3.5.2"
  }
 },
 "nbformat": 4,
 "nbformat_minor": 2
}
