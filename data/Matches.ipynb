{
 "cells": [
  {
   "cell_type": "code",
   "execution_count": null,
   "metadata": {},
   "outputs": [],
   "source": [
    "# Uses Valve API to fetch DOTA 2 match data\n",
    "\n",
    "# Input: Number of matches to fetch, search parameters\n",
    "# Output: writes to matches.csv <match ID> <Radiant hero list> <Dire hero list> <radiant victory>\n",
    "import dota2api\n",
    "import csv\n",
    "\n",
    "api = dota2api.Initialise(\"99D02C15EE252F2749EAE4346B33E6E6\", raw_mode=True) #Remove this before commit"
   ]
  },
  {
   "cell_type": "code",
   "execution_count": null,
   "metadata": {},
   "outputs": [],
   "source": [
    "start_seq_num = 3908238280\n",
    "total_matches = 10000\n",
    "processed = 0"
   ]
  },
  {
   "cell_type": "code",
   "execution_count": null,
   "metadata": {
    "scrolled": true
   },
   "outputs": [],
   "source": [
    "while processed < total_matches:\n",
    "    print(processed)\n",
    "    print(start_seq_num)\n",
    "    res = api.get_match_history_by_seq_num(start_seq_num)\n",
    "    matches = res['matches']\n",
    "    with open('matches.csv', 'a') as csvfile:\n",
    "        writer = csv.writer(csvfile)\n",
    "        for match in matches:\n",
    "            if match['lobby_type'] == 7: # Ranked matches\n",
    "                match_id = match['match_id']\n",
    "                match_seq_num = match['match_seq_num']\n",
    "                radiant_team = []\n",
    "                dire_team = []\n",
    "                for player in match['players']:\n",
    "                    slot = player['player_slot']\n",
    "\n",
    "                    if slot < 128:\n",
    "                        # Radiant team slot\n",
    "                        radiant_team.append(player['hero_id'])\n",
    "                    else:\n",
    "                        dire_team.append(player['hero_id'])\n",
    "                radiant_win = 1 if match['radiant_win'] else 0               \n",
    "                row = [match_id, match_seq_num]\n",
    "                for hero in radiant_team:\n",
    "                    row.append(hero)\n",
    "                for hero in dire_team:\n",
    "                    row.append(hero)\n",
    "                row.append(radiant_win)\n",
    "                writer.writerow(row)\n",
    "                processed = processed + 1\n",
    "    start_seq_num = start_seq_num - 300\n"
   ]
  },
  {
   "cell_type": "code",
   "execution_count": null,
   "metadata": {},
   "outputs": [],
   "source": []
  },
  {
   "cell_type": "code",
   "execution_count": null,
   "metadata": {},
   "outputs": [],
   "source": []
  }
 ],
 "metadata": {
  "kernelspec": {
   "display_name": "Python 3",
   "language": "python",
   "name": "python3"
  },
  "language_info": {
   "codemirror_mode": {
    "name": "ipython",
    "version": 3
   },
   "file_extension": ".py",
   "mimetype": "text/x-python",
   "name": "python",
   "nbconvert_exporter": "python",
   "pygments_lexer": "ipython3",
   "version": "3.5.2"
  }
 },
 "nbformat": 4,
 "nbformat_minor": 2
}
