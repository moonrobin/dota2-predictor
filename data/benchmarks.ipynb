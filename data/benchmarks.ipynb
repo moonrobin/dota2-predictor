{
 "cells": [
  {
   "cell_type": "code",
   "execution_count": 25,
   "metadata": {},
   "outputs": [],
   "source": [
    "import json\n",
    "import requests\n",
    "import csv\n",
    "import time"
   ]
  },
  {
   "cell_type": "code",
   "execution_count": 26,
   "metadata": {},
   "outputs": [],
   "source": [
    "OPENDOTA_BENCHMARKS = \"https://api.opendota.com/api/benchmarks\""
   ]
  },
  {
   "cell_type": "code",
   "execution_count": 27,
   "metadata": {},
   "outputs": [],
   "source": [
    "with open('heroes_id.csv') as hero_ids_csv, open('benchmarks.csv', 'wt') as benchmarks_csv:\n",
    "    reader = csv.reader(hero_ids_csv)\n",
    "    writer = csv.writer(benchmarks_csv)\n",
    "    for row in reader:\n",
    "        hero_id = row[0]\n",
    "        queryparams = {'hero_id' : hero_id}\n",
    "        response = requests.get(OPENDOTA_BENCHMARKS, params=queryparams)\n",
    "        while(response.status_code == requests.codes.too_many_requests):\n",
    "            time.sleep(5)\n",
    "            response = requests.get(OPENDOTA_BENCHMARKS, params=queryparams)\n",
    "            \n",
    "        if response.status_code == requests.codes.ok:\n",
    "            # Only get the 50th percentile benchmarks for hero\n",
    "            bench = json.loads(response.text)\n",
    "            gpm = bench['result']['gold_per_min'][4]['value']\n",
    "            xpm = bench['result']['xp_per_min'][4]['value']\n",
    "            kpm = bench['result']['kills_per_min'][4]['value']\n",
    "            lhm = bench['result']['last_hits_per_min'][4]['value']\n",
    "            hdm = bench['result']['hero_damage_per_min'][4]['value']\n",
    "            hhm = bench['result']['hero_healing_per_min'][4]['value']\n",
    "            td = bench['result']['tower_damage'][4]['value']\n",
    "            writer.writerow([hero_id, gpm, xpm, kpm, lhm, hdm, hhm, td])\n",
    "        else:\n",
    "            print(response)     "
   ]
  },
  {
   "cell_type": "code",
   "execution_count": null,
   "metadata": {},
   "outputs": [],
   "source": []
  }
 ],
 "metadata": {
  "kernelspec": {
   "display_name": "Python 3",
   "language": "python",
   "name": "python3"
  },
  "language_info": {
   "codemirror_mode": {
    "name": "ipython",
    "version": 3
   },
   "file_extension": ".py",
   "mimetype": "text/x-python",
   "name": "python",
   "nbconvert_exporter": "python",
   "pygments_lexer": "ipython3",
   "version": "3.5.2"
  }
 },
 "nbformat": 4,
 "nbformat_minor": 2
}
